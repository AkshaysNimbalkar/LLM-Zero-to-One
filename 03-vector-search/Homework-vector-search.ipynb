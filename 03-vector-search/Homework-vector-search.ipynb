{
 "cells": [
  {
   "cell_type": "code",
   "execution_count": 1,
   "id": "92f8fb88-2bb0-401c-98e6-272729a16755",
   "metadata": {},
   "outputs": [
    {
     "data": {
      "application/vnd.jupyter.widget-view+json": {
       "model_id": "4869cb3163c44bbd823077af273246c0",
       "version_major": 2,
       "version_minor": 0
      },
      "text/plain": [
       "modules.json:   0%|          | 0.00/349 [00:00<?, ?B/s]"
      ]
     },
     "metadata": {},
     "output_type": "display_data"
    },
    {
     "name": "stderr",
     "output_type": "stream",
     "text": [
      "C:\\Users\\aksha\\anaconda3\\Lib\\site-packages\\huggingface_hub\\file_download.py:159: UserWarning: `huggingface_hub` cache-system uses symlinks by default to efficiently store duplicated files but your machine does not support them in C:\\Users\\aksha\\.cache\\huggingface\\hub\\models--sentence-transformers--multi-qa-distilbert-cos-v1. Caching files will still work but in a degraded version that might require more space on your disk. This warning can be disabled by setting the `HF_HUB_DISABLE_SYMLINKS_WARNING` environment variable. For more details, see https://huggingface.co/docs/huggingface_hub/how-to-cache#limitations.\n",
      "To support symlinks on Windows, you either need to activate Developer Mode or to run Python as an administrator. In order to see activate developer mode, see this article: https://docs.microsoft.com/en-us/windows/apps/get-started/enable-your-device-for-development\n",
      "  warnings.warn(message)\n"
     ]
    },
    {
     "data": {
      "application/vnd.jupyter.widget-view+json": {
       "model_id": "8ddb377120f34e93b219b47cd8b79944",
       "version_major": 2,
       "version_minor": 0
      },
      "text/plain": [
       "config_sentence_transformers.json:   0%|          | 0.00/116 [00:00<?, ?B/s]"
      ]
     },
     "metadata": {},
     "output_type": "display_data"
    },
    {
     "data": {
      "application/vnd.jupyter.widget-view+json": {
       "model_id": "a157ed315d0f4fcda0d5ccd149b21865",
       "version_major": 2,
       "version_minor": 0
      },
      "text/plain": [
       "README.md:   0%|          | 0.00/9.52k [00:00<?, ?B/s]"
      ]
     },
     "metadata": {},
     "output_type": "display_data"
    },
    {
     "data": {
      "application/vnd.jupyter.widget-view+json": {
       "model_id": "00e3cd905b914270bb30db0db116b263",
       "version_major": 2,
       "version_minor": 0
      },
      "text/plain": [
       "sentence_bert_config.json:   0%|          | 0.00/53.0 [00:00<?, ?B/s]"
      ]
     },
     "metadata": {},
     "output_type": "display_data"
    },
    {
     "data": {
      "application/vnd.jupyter.widget-view+json": {
       "model_id": "fbb8ccc0596244fa9203212a04c57bd6",
       "version_major": 2,
       "version_minor": 0
      },
      "text/plain": [
       "config.json:   0%|          | 0.00/523 [00:00<?, ?B/s]"
      ]
     },
     "metadata": {},
     "output_type": "display_data"
    },
    {
     "data": {
      "application/vnd.jupyter.widget-view+json": {
       "model_id": "6f14f550485945a0a7e70781d5f2a75c",
       "version_major": 2,
       "version_minor": 0
      },
      "text/plain": [
       "model.safetensors:   0%|          | 0.00/265M [00:00<?, ?B/s]"
      ]
     },
     "metadata": {},
     "output_type": "display_data"
    },
    {
     "data": {
      "application/vnd.jupyter.widget-view+json": {
       "model_id": "175b2a5e845747d1bafd8babf2867e1c",
       "version_major": 2,
       "version_minor": 0
      },
      "text/plain": [
       "tokenizer_config.json:   0%|          | 0.00/333 [00:00<?, ?B/s]"
      ]
     },
     "metadata": {},
     "output_type": "display_data"
    },
    {
     "data": {
      "application/vnd.jupyter.widget-view+json": {
       "model_id": "57e7c4a48d004de9952e5684329fbcc8",
       "version_major": 2,
       "version_minor": 0
      },
      "text/plain": [
       "vocab.txt:   0%|          | 0.00/232k [00:00<?, ?B/s]"
      ]
     },
     "metadata": {},
     "output_type": "display_data"
    },
    {
     "data": {
      "application/vnd.jupyter.widget-view+json": {
       "model_id": "4c04e6c5221c499a9c409e4476497d1e",
       "version_major": 2,
       "version_minor": 0
      },
      "text/plain": [
       "tokenizer.json:   0%|          | 0.00/466k [00:00<?, ?B/s]"
      ]
     },
     "metadata": {},
     "output_type": "display_data"
    },
    {
     "data": {
      "application/vnd.jupyter.widget-view+json": {
       "model_id": "e73e620c6cba4003a555ebff30d31770",
       "version_major": 2,
       "version_minor": 0
      },
      "text/plain": [
       "special_tokens_map.json:   0%|          | 0.00/112 [00:00<?, ?B/s]"
      ]
     },
     "metadata": {},
     "output_type": "display_data"
    },
    {
     "data": {
      "application/vnd.jupyter.widget-view+json": {
       "model_id": "c387c12adac04d1787c15960771cc1bb",
       "version_major": 2,
       "version_minor": 0
      },
      "text/plain": [
       "1_Pooling/config.json:   0%|          | 0.00/190 [00:00<?, ?B/s]"
      ]
     },
     "metadata": {},
     "output_type": "display_data"
    }
   ],
   "source": [
    "from sentence_transformers import SentenceTransformer\n",
    "embedding_model = SentenceTransformer('multi-qa-distilbert-cos-v1')"
   ]
  },
  {
   "cell_type": "code",
   "execution_count": 3,
   "id": "c7257506-1d49-4c45-9b27-e4715a7e040f",
   "metadata": {},
   "outputs": [],
   "source": [
    "user_question = \"I just discovered the course. Can I still join it?\"\n"
   ]
  },
  {
   "cell_type": "code",
   "execution_count": 5,
   "id": "2e457cb8-7880-42c0-a548-4130d45ac541",
   "metadata": {},
   "outputs": [
    {
     "data": {
      "text/plain": [
       "array([ 7.82226622e-02, -4.01311480e-02,  3.86135876e-02, -1.78980961e-04,\n",
       "        8.92346948e-02, -5.04591204e-02, -1.05026523e-02,  3.71055715e-02,\n",
       "       -4.18714210e-02,  3.48084755e-02, -1.20701911e-02, -2.36942340e-02,\n",
       "        3.87900099e-02,  1.60988625e-02,  3.50747444e-02,  3.04745091e-03,\n",
       "        5.79672344e-02, -4.10627462e-02, -3.41552533e-02, -2.56396551e-02,\n",
       "       -3.55263986e-02,  1.42907826e-02, -1.62799861e-02,  3.21446396e-02,\n",
       "       -4.66897525e-02,  7.89185762e-02,  4.90160920e-02,  1.56760979e-02,\n",
       "       -1.69109926e-02,  2.26482023e-02,  5.60206212e-02, -3.98361459e-02,\n",
       "        6.77410141e-02, -1.20209772e-02,  1.12622150e-03, -1.94394384e-02,\n",
       "       -2.65951492e-02,  1.06177386e-02,  1.69687252e-02,  1.13487830e-02,\n",
       "       -2.97062900e-02,  5.25258258e-02, -1.41453743e-02,  4.61700186e-02,\n",
       "        1.17065851e-02, -2.38053408e-02, -6.32558018e-02, -1.92041881e-02,\n",
       "       -7.10591534e-03,  3.24167982e-02,  2.49618124e-02, -5.27499989e-03,\n",
       "        2.01149210e-02, -3.72371003e-02,  3.46405320e-02, -3.29310223e-02,\n",
       "       -2.01484542e-02,  5.07841632e-03, -4.55506779e-02,  7.89168756e-03,\n",
       "       -4.91713360e-02,  4.69896868e-02, -3.79571543e-06,  2.48839334e-02,\n",
       "       -2.96471380e-02,  6.69759838e-03,  3.58087607e-02, -7.18097296e-03,\n",
       "       -3.03277094e-02,  7.95788039e-03,  3.36150639e-02, -2.25491170e-02,\n",
       "       -3.62097919e-02, -2.03928929e-02, -2.70679570e-03, -8.15981776e-02,\n",
       "       -1.43992966e-02,  4.90568429e-02, -2.11568624e-02,  9.31662275e-04,\n",
       "        6.57264590e-02,  4.69609983e-02,  1.23655321e-02, -2.84593198e-02,\n",
       "       -2.57528629e-02,  1.46925654e-02, -5.53987473e-02, -3.05970367e-02,\n",
       "        5.75574227e-02,  2.81941127e-02, -1.30107142e-02, -2.08614822e-02,\n",
       "       -2.43033674e-02, -2.40275171e-02,  4.11576889e-02, -5.92422746e-02,\n",
       "       -1.69009343e-03,  4.00552079e-02,  2.43852735e-02, -1.10905049e-02,\n",
       "       -2.93892752e-02,  2.01826729e-02,  4.22846340e-03,  2.95343380e-02,\n",
       "        3.16523202e-02,  3.00930105e-02,  8.98854993e-03, -8.30620825e-02,\n",
       "       -2.24144366e-02,  1.82182733e-02, -5.66515587e-02, -4.21271957e-02,\n",
       "        3.27232592e-02, -2.10854560e-02, -4.79224371e-03,  1.90163255e-02,\n",
       "        4.55397628e-02, -9.62483510e-03, -2.30315905e-02, -3.52343284e-02,\n",
       "       -3.91418785e-02, -3.46548110e-02,  2.47355215e-02,  4.71566841e-02,\n",
       "        3.46270725e-02,  5.29963858e-02, -2.86405496e-02, -1.71785112e-02,\n",
       "       -1.30146025e-02, -5.79404570e-02,  3.99250686e-02, -5.88766374e-02,\n",
       "        4.57601510e-02,  2.09622271e-02, -1.52759729e-02,  3.25414911e-02,\n",
       "        2.08252855e-02, -2.48041954e-02, -4.24147062e-02,  2.95954831e-02,\n",
       "       -4.62034307e-02,  3.17028500e-02, -7.64972391e-03,  5.84938377e-03,\n",
       "       -3.90674099e-02,  8.11776984e-03, -3.60446498e-02,  6.34326041e-02,\n",
       "       -4.23139110e-02, -1.57086935e-03,  9.18295141e-03, -2.99421195e-02,\n",
       "       -2.27955338e-02, -9.86714382e-03,  2.94452403e-02,  1.75153054e-02,\n",
       "       -1.93444397e-02,  2.40449812e-02,  2.92803179e-02,  4.78761474e-04,\n",
       "        2.55402792e-02, -3.34960185e-02,  3.04799676e-02, -9.45275929e-03,\n",
       "        3.35257389e-02,  5.77760562e-02, -1.58551130e-02, -7.15148300e-02,\n",
       "        6.71661634e-04, -7.77696399e-03, -5.37220314e-02, -1.58578847e-02,\n",
       "        2.93348935e-02, -5.35059534e-02, -2.82785036e-02, -3.81728895e-02,\n",
       "        1.05943717e-03,  3.31667787e-03,  2.60325093e-02, -2.05704514e-02,\n",
       "       -2.55043898e-02, -2.73665432e-02,  2.12153159e-02, -3.17961760e-02,\n",
       "       -2.71618962e-02, -3.00257280e-02, -5.35569638e-02,  1.62939541e-02,\n",
       "        2.55570677e-03,  7.67827854e-02,  3.24226320e-02,  3.80413830e-02,\n",
       "       -2.25355346e-02, -4.81642038e-02,  2.26790570e-02,  1.25548644e-02,\n",
       "       -4.78156060e-02,  4.13825959e-02, -9.52939317e-03,  3.37111093e-02,\n",
       "        3.21243405e-02,  5.91824912e-02, -7.25297928e-02, -7.38688093e-03,\n",
       "       -3.22184376e-02,  3.09308991e-02,  5.23214266e-02,  3.24244015e-02,\n",
       "       -3.95455286e-02, -2.63985265e-02, -2.35442966e-02,  2.39194254e-03,\n",
       "        3.20997089e-02,  8.44293833e-03,  9.85342637e-03,  1.95927378e-02,\n",
       "        3.99371758e-02,  4.52750362e-02,  3.52183655e-02,  1.67367533e-02,\n",
       "        2.65721064e-02, -8.88592936e-03, -1.27367359e-02, -5.89371137e-02,\n",
       "       -2.89509818e-02,  2.18168236e-02, -4.62896489e-02, -5.12743276e-03,\n",
       "       -2.73846369e-02, -4.35680896e-02, -3.33959796e-02,  2.61665182e-03,\n",
       "        6.77052066e-02, -6.68669306e-03,  4.25815843e-02, -8.47997051e-03,\n",
       "       -4.45969813e-02, -4.92077246e-02,  2.54241433e-02,  3.41309421e-02,\n",
       "        4.66176569e-02,  3.41222584e-02, -3.89920473e-02,  6.68450743e-02,\n",
       "        6.32637739e-02, -1.53560853e-02, -6.43530628e-04,  1.88044980e-02,\n",
       "        1.10457651e-02, -2.76161302e-02,  4.89471741e-02, -6.65619075e-02,\n",
       "        4.41558938e-03, -8.06404464e-03, -7.56583065e-02,  5.20581715e-02,\n",
       "       -1.68674756e-02, -1.51841063e-02,  2.59556230e-02,  4.38798638e-03,\n",
       "        1.29939578e-02,  2.37958133e-02, -3.92605774e-02,  3.40805156e-03,\n",
       "       -4.65255529e-02, -5.80669157e-02, -4.86324318e-02,  3.85592803e-02,\n",
       "        1.58163570e-02, -3.55918072e-02, -6.13348894e-02, -4.66559194e-02,\n",
       "        3.48288864e-02, -3.00835278e-02, -3.80521528e-02,  5.35570942e-02,\n",
       "       -4.42222990e-02, -4.11476642e-02,  2.34690122e-02,  4.05164610e-05,\n",
       "       -2.18802039e-03, -2.06340640e-03, -4.33782339e-02, -6.21993968e-04,\n",
       "       -4.64339778e-02,  8.27862918e-02, -1.49072688e-02,  3.24270613e-02,\n",
       "        1.35792624e-02, -1.49167341e-03,  8.62602443e-02,  6.92182705e-02,\n",
       "        4.57400223e-03,  3.55517748e-03,  6.91157207e-02, -9.68691036e-02,\n",
       "        3.21000926e-02, -1.90142710e-02,  7.19640255e-02,  7.18858689e-02,\n",
       "        2.10939012e-02, -8.37227271e-04, -2.27937102e-02,  1.27857262e-02,\n",
       "        9.23394263e-02, -5.41783869e-02,  4.61493917e-02, -7.08943093e-03,\n",
       "       -3.20987105e-02, -3.81699465e-02, -4.22405638e-02,  5.16355932e-02,\n",
       "        1.07125184e-02, -5.59868626e-02, -2.29028277e-02,  3.15916687e-02,\n",
       "       -5.60135283e-02,  1.22199208e-02, -1.85765531e-02, -3.86153394e-03,\n",
       "        5.66245541e-02,  3.09959836e-02,  3.28162797e-02,  5.95071428e-02,\n",
       "       -1.15265604e-02,  2.45990921e-02,  1.98689452e-03,  3.61350477e-02,\n",
       "        7.19022378e-02,  6.74676755e-03, -2.22808775e-02,  3.80802564e-02,\n",
       "       -3.19978893e-02,  4.77899611e-02, -4.88461927e-02, -2.62966361e-02,\n",
       "       -9.14800446e-03, -3.70225124e-02, -2.10672878e-02,  3.66252437e-02,\n",
       "       -2.93568824e-03,  1.90015454e-02, -4.06738780e-02, -9.88849159e-03,\n",
       "       -1.32069951e-02, -1.84205696e-02, -3.04456986e-02, -1.17648039e-02,\n",
       "       -2.16220617e-02, -1.32907955e-02, -4.90810648e-02,  3.75495479e-02,\n",
       "        2.36799344e-02,  6.20988384e-03,  1.94518529e-02,  1.11171342e-02,\n",
       "       -1.27270957e-02, -1.16941100e-02, -4.15579155e-02,  3.03731486e-03,\n",
       "        3.35785598e-02,  2.02151146e-02, -5.23533449e-02, -1.03417914e-02,\n",
       "       -3.44100818e-02, -1.83595009e-02,  1.93087547e-03,  3.44448797e-02,\n",
       "       -2.83048097e-02,  7.25738471e-03,  5.40008768e-02, -2.32120287e-02,\n",
       "       -2.37849206e-02,  5.14848297e-03, -1.04726767e-02, -3.04511525e-02,\n",
       "       -1.45227909e-02,  5.83771840e-02,  6.24930952e-03,  1.76533684e-02,\n",
       "        2.71377973e-02, -2.07602549e-02, -4.82953293e-03,  4.38607633e-02,\n",
       "        4.89790700e-02, -1.84726119e-02,  2.23985333e-02,  2.48786900e-02,\n",
       "       -7.83602986e-03,  2.70838272e-02,  8.69912356e-02,  5.14607877e-02,\n",
       "        2.68816631e-02, -2.45199129e-02,  1.98570974e-02,  2.55423076e-02,\n",
       "       -4.49709371e-02,  1.18260067e-02, -5.71240298e-02,  6.86877817e-02,\n",
       "        2.32738554e-02,  4.34287451e-02,  1.60184223e-02,  3.36551368e-02,\n",
       "        1.18744941e-02,  1.84787232e-02,  2.18717288e-02,  8.06100480e-03,\n",
       "        2.65186988e-02, -1.67911202e-02, -1.14257615e-02,  5.79695813e-02,\n",
       "        2.19955817e-02, -7.88591802e-02,  4.26271595e-02, -7.00563192e-02,\n",
       "        5.12132011e-02,  2.96157878e-02,  4.99608256e-02,  9.40514635e-03,\n",
       "       -4.73498404e-02,  4.21217233e-02, -1.81927141e-02, -7.69211277e-02,\n",
       "        9.72863194e-03, -6.79067671e-02,  1.55991819e-02,  2.72872858e-02,\n",
       "        4.54442063e-03, -2.10022042e-03,  7.53396973e-02,  1.33477408e-03,\n",
       "       -1.99394766e-02, -5.24484552e-02,  3.05674109e-03,  1.98292024e-02,\n",
       "        2.39940584e-02,  1.24235898e-02,  1.47050200e-02,  1.03529561e-02,\n",
       "       -4.38815355e-02,  4.75225709e-02,  3.21548916e-02,  6.52114162e-04,\n",
       "       -2.02529766e-02,  4.32258993e-02, -2.71596890e-02,  1.38091948e-02,\n",
       "       -3.86391692e-02,  2.84993146e-02, -2.27451767e-03,  3.99671942e-02,\n",
       "        1.53476866e-02,  1.32415872e-02, -7.11276829e-02,  3.93648595e-02,\n",
       "        2.51131654e-02, -2.36388277e-02,  1.80941094e-02, -2.43954360e-02,\n",
       "        2.19316827e-03,  3.75051796e-02,  1.56092001e-02,  7.14066578e-03,\n",
       "       -3.41359600e-02,  7.57617084e-03,  2.62274295e-02,  1.14289345e-02,\n",
       "        3.52655575e-02,  2.13689962e-03, -4.56282916e-03, -2.63882503e-02,\n",
       "        6.55588508e-02,  6.00263849e-02, -3.54714431e-02, -1.01350797e-02,\n",
       "        2.56269239e-02, -1.02697171e-01,  3.54785211e-02, -6.22319169e-02,\n",
       "       -1.14733893e-02, -3.44268186e-03,  1.05506286e-03, -2.81982636e-03,\n",
       "        6.26723021e-02, -4.57265712e-02,  1.70462988e-02, -8.05482790e-02,\n",
       "        1.55107724e-02, -2.58683023e-04,  2.01546960e-02,  8.79566558e-03,\n",
       "        2.62557697e-02,  8.31570127e-04, -3.23719867e-02, -5.27925938e-02,\n",
       "        1.55638540e-02,  1.15739089e-02, -2.99570593e-03, -8.24661832e-03,\n",
       "       -3.26189138e-02, -7.73414671e-02, -4.12966907e-02, -2.21012570e-02,\n",
       "        4.75402828e-03, -1.25991199e-02,  1.07523724e-02,  4.99581471e-02,\n",
       "        2.15218514e-02,  2.69317888e-02,  3.28038819e-02,  7.46343751e-03,\n",
       "        1.83877032e-02, -2.74957996e-02, -9.13316850e-03, -1.22790867e-02,\n",
       "        2.07576137e-02,  1.40681993e-02,  1.09913731e-02, -2.26452108e-02,\n",
       "        6.41366169e-02, -1.79608259e-02, -4.23230380e-02, -1.88530842e-03,\n",
       "       -3.59299593e-02,  1.20294243e-02,  1.00361547e-02,  6.56100363e-02,\n",
       "        2.87165996e-02,  2.78465115e-02, -5.23849912e-02,  3.18163410e-02,\n",
       "       -4.65675667e-02,  1.38316844e-02,  2.83224564e-02,  7.78381061e-03,\n",
       "       -9.74422880e-03, -3.97435948e-02, -2.49803886e-02, -2.32911315e-02,\n",
       "       -2.11588927e-02, -6.84602559e-03, -1.95434764e-02, -2.29271948e-02,\n",
       "       -1.46510126e-02, -2.22448818e-02, -1.09536648e-02, -3.67134474e-02,\n",
       "       -1.84324626e-02, -1.04103070e-02, -8.88100453e-03, -1.47620719e-02,\n",
       "       -2.92523988e-02,  1.00569343e-02,  2.28201132e-02,  1.42325601e-03,\n",
       "       -2.35474836e-02, -2.39605550e-02,  5.40140979e-02, -2.16813199e-02,\n",
       "        1.94904767e-02, -3.11479121e-02, -1.54089872e-02, -1.45636024e-02,\n",
       "        5.81610240e-02,  3.05503365e-02, -5.09664882e-03, -1.68099813e-02,\n",
       "       -3.46655473e-02, -2.07241438e-02, -4.60087545e-02,  2.22177571e-03,\n",
       "       -4.44852561e-02,  1.13986749e-02,  3.25434469e-02, -7.11341500e-02,\n",
       "       -2.52612662e-02, -1.93929113e-02,  1.29123330e-02, -3.82378586e-02,\n",
       "       -1.61821004e-02,  3.58506739e-02,  5.04317097e-02, -4.06113686e-03,\n",
       "        1.62504278e-02, -7.24662244e-02,  2.72171889e-02,  1.78223345e-02,\n",
       "        1.37028797e-02,  2.36819759e-02,  2.59892847e-02,  4.08842824e-02,\n",
       "        6.46981969e-03, -1.15187690e-02, -2.65878811e-02,  9.67551209e-03,\n",
       "       -5.31225950e-02,  8.27141223e-04,  1.87265892e-02, -2.92988936e-03,\n",
       "        2.49405075e-02, -1.47512406e-02,  1.41259460e-02,  4.05030102e-02,\n",
       "       -1.27288429e-02, -6.76722452e-02,  4.83829640e-02,  4.07700464e-02,\n",
       "        1.98605433e-02,  3.03293746e-02,  2.63720937e-02,  5.23594245e-02,\n",
       "       -3.34631167e-02, -9.35077947e-03,  1.69177447e-02,  4.34683748e-02,\n",
       "        3.83584611e-02,  4.47562486e-02,  1.90879125e-02, -1.47993546e-02,\n",
       "       -4.34136996e-03,  1.08403452e-02,  4.95932857e-03, -1.63312331e-02,\n",
       "       -1.97149650e-03, -4.17675115e-02,  6.56750947e-02, -6.79403245e-02,\n",
       "        4.33395058e-03, -1.69463400e-02,  2.51758825e-02,  2.56763715e-02,\n",
       "        1.15080876e-03, -1.54735334e-02, -7.34512787e-03, -5.32572567e-02,\n",
       "        3.48777161e-03, -1.38180414e-02, -5.89081906e-02,  2.92866211e-03,\n",
       "        5.04818819e-02,  3.35814012e-03, -8.88556316e-02, -3.84000726e-02,\n",
       "       -2.22147685e-02, -2.82134283e-02, -5.42563107e-03,  2.85600554e-02,\n",
       "       -4.50810567e-02,  7.93293410e-04,  8.93172324e-02,  1.16104838e-02,\n",
       "       -3.18008400e-02,  2.66568009e-02,  2.71802787e-02,  1.89267378e-02,\n",
       "       -2.06058491e-02, -3.02396361e-02, -2.85009779e-02, -3.13029438e-02,\n",
       "       -1.97962970e-02, -6.64772186e-03, -1.67978276e-02, -1.99807659e-02,\n",
       "       -5.34576029e-02, -4.45693004e-04, -2.96823103e-02,  4.37867157e-02,\n",
       "       -1.00504085e-02, -1.09997354e-02,  2.21025962e-02, -3.46548893e-02,\n",
       "        2.11835839e-02,  1.56232761e-02,  2.64695305e-02, -2.34831404e-02,\n",
       "        2.44938191e-02,  4.38888147e-02,  7.06147263e-03, -1.21593475e-02,\n",
       "        1.87902004e-02, -6.91952324e-03,  1.30047537e-02,  1.27160782e-02,\n",
       "       -2.23634415e-03,  2.10030545e-02,  6.99695796e-02,  3.16452086e-02,\n",
       "       -2.35833172e-02,  4.63553099e-03, -6.60422212e-03, -3.26112285e-02,\n",
       "        7.33723342e-02, -8.55090991e-02, -4.05770615e-02,  2.57487558e-02,\n",
       "       -5.12588583e-02,  6.70370013e-02, -1.24506159e-02, -8.91838595e-02,\n",
       "        5.48583232e-02, -4.54949923e-02, -3.45565267e-02, -7.73075074e-02,\n",
       "        4.11657766e-02, -4.30639386e-02,  2.70703249e-02,  3.20440046e-02,\n",
       "       -4.77702096e-02, -1.56586114e-02,  1.72707066e-02, -5.23966923e-02,\n",
       "       -7.17989728e-02,  4.30010725e-03,  7.25711798e-05,  5.29346727e-02,\n",
       "       -3.14253308e-02,  1.90561004e-02,  2.56206375e-02,  7.90970027e-02,\n",
       "        2.13809554e-02, -2.44315583e-02, -1.42573128e-02,  3.64167131e-02,\n",
       "        4.89886627e-02,  2.09607836e-02, -4.13179062e-02,  4.09341045e-02,\n",
       "       -1.21459849e-01,  6.68874532e-02, -3.10828502e-04, -6.26351172e-03,\n",
       "        3.98600213e-02,  5.48594669e-02, -1.15817964e-01,  5.31956367e-02,\n",
       "       -4.32696491e-02,  4.33376282e-02,  2.90152766e-02, -8.89771357e-02,\n",
       "       -2.17882544e-02,  1.54281147e-02,  3.62119451e-02, -9.14942175e-02,\n",
       "       -3.93842021e-03, -3.60860415e-02, -7.26093166e-03,  8.90837517e-03,\n",
       "       -5.32953888e-02,  3.61573175e-02,  8.56206417e-02, -1.42062353e-02,\n",
       "        2.44349204e-02,  1.94476859e-03,  5.81037924e-02, -2.16630939e-02,\n",
       "        2.43256204e-02, -2.31523975e-03, -1.37546239e-03,  5.89746498e-02,\n",
       "        8.06517992e-03, -5.71863819e-03,  2.14907657e-02, -2.76927222e-02,\n",
       "       -3.97252552e-02,  3.13827954e-02,  1.40226609e-03,  5.06811216e-02],\n",
       "      dtype=float32)"
      ]
     },
     "execution_count": 5,
     "metadata": {},
     "output_type": "execute_result"
    }
   ],
   "source": [
    "embedding_model.encode(user_question)"
   ]
  },
  {
   "cell_type": "markdown",
   "id": "139c1a2c-f60a-40d5-9a76-e4c414843753",
   "metadata": {},
   "source": [
    "#### First Value: 7.82226622e-02"
   ]
  },
  {
   "cell_type": "code",
   "execution_count": 6,
   "id": "996a5295-ecea-420b-a155-980d3ba4b65f",
   "metadata": {},
   "outputs": [],
   "source": [
    "import json\n",
    "\n",
    "with open('documents-with-ids.json', 'rt') as f_in:\n",
    "    documents = json.load(f_in)"
   ]
  },
  {
   "cell_type": "code",
   "execution_count": 9,
   "id": "b9545066-bbc5-4520-b1ac-749a3f07ccb4",
   "metadata": {},
   "outputs": [],
   "source": [
    "documents = [d for d in documents if d['course'] == \"machine-learning-zoomcamp\"]"
   ]
  },
  {
   "cell_type": "code",
   "execution_count": 10,
   "id": "e641a52b-b6d1-4e09-9802-5395809df66c",
   "metadata": {},
   "outputs": [
    {
     "data": {
      "text/plain": [
       "375"
      ]
     },
     "execution_count": 10,
     "metadata": {},
     "output_type": "execute_result"
    }
   ],
   "source": [
    "len(documents)"
   ]
  },
  {
   "cell_type": "code",
   "execution_count": 12,
   "id": "dd8cd780-6177-431b-987d-17038c13c1b0",
   "metadata": {},
   "outputs": [
    {
     "data": {
      "text/plain": [
       "{'text': 'Machine Learning Zoomcamp FAQ\\nThe purpose of this document is to capture frequently asked technical questions.\\nWe did this for our data engineering course and it worked quite well. Check this document for inspiration on how to structure your questions and answers:\\nData Engineering Zoomcamp FAQ\\nIn the course GitHub repository there’s a link. Here it is: https://airtable.com/shryxwLd0COOEaqXo\\nwork',\n",
       " 'section': 'General course-related questions',\n",
       " 'question': 'How do I sign up?',\n",
       " 'course': 'machine-learning-zoomcamp',\n",
       " 'id': '0227b872'}"
      ]
     },
     "execution_count": 12,
     "metadata": {},
     "output_type": "execute_result"
    }
   ],
   "source": [
    "documents[0]"
   ]
  },
  {
   "cell_type": "markdown",
   "id": "38904db2-d23e-49f6-b442-972550a4f7b5",
   "metadata": {},
   "source": [
    "### Q2\n"
   ]
  },
  {
   "cell_type": "code",
   "execution_count": 11,
   "id": "8e0d0878-d0ed-450a-9ccf-7d834bb59e17",
   "metadata": {},
   "outputs": [],
   "source": [
    "from tqdm.auto import tqdm"
   ]
  },
  {
   "cell_type": "code",
   "execution_count": 22,
   "id": "d8d0a4f8-b1e6-49ea-b1d3-abd4ee0acf30",
   "metadata": {},
   "outputs": [
    {
     "data": {
      "application/vnd.jupyter.widget-view+json": {
       "model_id": "44fd6c35c9244cac80306a9d25bbf93e",
       "version_major": 2,
       "version_minor": 0
      },
      "text/plain": [
       "  0%|          | 0/375 [00:00<?, ?it/s]"
      ]
     },
     "metadata": {},
     "output_type": "display_data"
    }
   ],
   "source": [
    "embeddings = []\n",
    "for doc in tqdm(documents):\n",
    "    qa_text = '{question} {text}'.format(**doc)\n",
    "    v_qa = embedding_model.encode(qa_text)\n",
    "    embeddings.append(v_qa)\n",
    "    "
   ]
  },
  {
   "cell_type": "code",
   "execution_count": 23,
   "id": "ccb99b81-7a30-4641-820f-f811c52595ba",
   "metadata": {},
   "outputs": [],
   "source": [
    "import numpy as np"
   ]
  },
  {
   "cell_type": "code",
   "execution_count": 24,
   "id": "bcba3a2d-8232-44a3-9e8a-b8cd15455366",
   "metadata": {},
   "outputs": [],
   "source": [
    "X = np.array(embeddings)"
   ]
  },
  {
   "cell_type": "code",
   "execution_count": 25,
   "id": "cc02961e-2138-436c-8277-d7eb3f32473a",
   "metadata": {},
   "outputs": [
    {
     "data": {
      "text/plain": [
       "(375, 768)"
      ]
     },
     "execution_count": 25,
     "metadata": {},
     "output_type": "execute_result"
    }
   ],
   "source": [
    "X.shape"
   ]
  },
  {
   "cell_type": "markdown",
   "id": "cfcc72ae-3b23-4631-8696-360b53e18852",
   "metadata": {},
   "source": [
    "### Q3"
   ]
  },
  {
   "cell_type": "code",
   "execution_count": 26,
   "id": "60741a99-90fb-4e5b-beea-fa048fbb76c9",
   "metadata": {},
   "outputs": [],
   "source": [
    "v = embedding_model.encode(user_question)"
   ]
  },
  {
   "cell_type": "code",
   "execution_count": 27,
   "id": "938959ce-b690-4671-935c-6584e89b5dde",
   "metadata": {},
   "outputs": [],
   "source": [
    "scores = X.dot(v)"
   ]
  },
  {
   "cell_type": "code",
   "execution_count": 29,
   "id": "15ee0a11-b2fc-4360-a275-5d07e3893c17",
   "metadata": {},
   "outputs": [
    {
     "data": {
      "text/plain": [
       "0.65065724"
      ]
     },
     "execution_count": 29,
     "metadata": {},
     "output_type": "execute_result"
    }
   ],
   "source": [
    "max(scores)"
   ]
  },
  {
   "cell_type": "code",
   "execution_count": 30,
   "id": "316cfaad-408e-4abb-99d3-a71b7d70259b",
   "metadata": {},
   "outputs": [
    {
     "data": {
      "text/plain": [
       "[{'text': 'Yes, you can. You won’t be able to submit some of the homeworks, but you can still take part in the course.\\nIn order to get a certificate, you need to submit 2 out of 3 course projects and review 3 peers’ Projects by the deadline. It means that if you join the course at the end of November and manage to work on two projects, you will still be eligible for a certificate.',\n",
       "  'section': 'General course-related questions',\n",
       "  'question': 'The course has already started. Can I still join it?',\n",
       "  'course': 'machine-learning-zoomcamp',\n",
       "  'id': 'ee58a693'},\n",
       " {'text': 'Welcome to the course! Go to the course page (http://mlzoomcamp.com/), scroll down and start going through the course materials. Then read everything in the cohort folder for your cohort’s year.\\nClick on the links and start watching the videos. Also watch office hours from previous cohorts. Go to DTC youtube channel and click on Playlists and search for {course yyyy}. ML Zoomcamp was first launched in 2021.\\nOr you can just use this link: http://mlzoomcamp.com/#syllabus',\n",
       "  'section': 'General course-related questions',\n",
       "  'question': 'I just joined. What should I do next? How can I access course materials?',\n",
       "  'course': 'machine-learning-zoomcamp',\n",
       "  'id': '0a278fb2'},\n",
       " {'text': \"The process is automated now, so you should receive the email eventually. If you haven’t, check your promotions tab in Gmail as well as spam.\\nIf you unsubscribed from our newsletter, you won't get course related updates too.\\nBut don't worry, it’s not a problem. To make sure you don’t miss anything, join the #course-ml-zoomcamp channel in Slack and our telegram channel with announcements. This is enough to follow the course.\",\n",
       "  'section': 'General course-related questions',\n",
       "  'question': \"I filled the form, but haven't received a confirmation email. Is it normal?\",\n",
       "  'course': 'machine-learning-zoomcamp',\n",
       "  'id': '6ba259b1'},\n",
       " {'text': 'Technically, yes. Advisable? Not really. Reasons:\\nSome homework(s) asks for specific python library versions.\\nAnswers may not match in MCQ options if using different languages other than Python 3.10 (the recommended version for 2023 cohort)\\nAnd as for midterms/capstones, your peer-reviewers may not know these other languages. Do you want to be penalized for others not knowing these other languages?\\nYou can create a separate repo using course’s lessons but written in other languages for your own learnings, but not advisable for submissions.\\ntx[source]',\n",
       "  'section': 'Miscellaneous',\n",
       "  'question': 'Can I do the course in other languages, like R or Scala?',\n",
       "  'course': 'machine-learning-zoomcamp',\n",
       "  'id': '9f261648'},\n",
       " {'text': 'We won’t re-record the course videos. The focus of the course and the skills we want to teach remained the same, and the videos are still up-to-date.\\nIf you haven’t taken part in the previous iteration, you can start watching the videos. It’ll be useful for you and you will learn new things. However, we recommend using Python 3.10 now instead of Python 3.8.',\n",
       "  'section': 'General course-related questions',\n",
       "  'question': 'The course videos are from the previous iteration. Will you release new ones or we’ll use the videos from 2021?',\n",
       "  'course': 'machine-learning-zoomcamp',\n",
       "  'id': 'e7ba6b8a'}]"
      ]
     },
     "execution_count": 30,
     "metadata": {},
     "output_type": "execute_result"
    }
   ],
   "source": [
    "class VectorSearchEngine():\n",
    "    def __init__(self, documents, embeddings):\n",
    "        self.documents = documents\n",
    "        self.embeddings = embeddings\n",
    "\n",
    "    def search(self, v_query, num_results=10):\n",
    "        scores = self.embeddings.dot(v_query)\n",
    "        idx = np.argsort(-scores)[:num_results]\n",
    "        return [self.documents[i] for i in idx]\n",
    "\n",
    "search_engine = VectorSearchEngine(documents=documents, embeddings=X)\n",
    "search_engine.search(v, num_results=5)"
   ]
  },
  {
   "cell_type": "markdown",
   "id": "487a7482-c3d9-4e6c-920f-174abe3eeaab",
   "metadata": {},
   "source": [
    "### Q4"
   ]
  },
  {
   "cell_type": "code",
   "execution_count": 35,
   "id": "9e166c7e-397a-497e-8cc9-ecb5ee06b199",
   "metadata": {},
   "outputs": [],
   "source": [
    "import pandas as pd\n",
    "df_ground_truth = pd.read_csv('ground-truth-data.csv')\n",
    "df_ground_truth = df_ground_truth[df_ground_truth.course == 'machine-learning-zoomcamp']\n",
    "ground_truth = df_ground_truth.to_dict(orient='records')"
   ]
  },
  {
   "cell_type": "code",
   "execution_count": 36,
   "id": "5ea711f0-4ee6-4e76-a563-0e757da02472",
   "metadata": {},
   "outputs": [
    {
     "data": {
      "text/plain": [
       "{'question': 'Can you provide a link to sign up?',\n",
       " 'course': 'machine-learning-zoomcamp',\n",
       " 'document': '0227b872'}"
      ]
     },
     "execution_count": 36,
     "metadata": {},
     "output_type": "execute_result"
    }
   ],
   "source": [
    "ground_truth[1]"
   ]
  },
  {
   "cell_type": "code",
   "execution_count": 39,
   "id": "d746f8b1-0abc-4626-aa46-8c0a97fa7acf",
   "metadata": {},
   "outputs": [],
   "source": [
    "def hit_rate(relevance_total):\n",
    "    cnt = 0\n",
    "\n",
    "    for line in relevance_total:\n",
    "        if True in line:\n",
    "            cnt = cnt + 1\n",
    "\n",
    "    return cnt / len(relevance_total)\n",
    "\n",
    "\n",
    "def mrr(relevance_total):\n",
    "    total_score = 0.0\n",
    "\n",
    "    for line in relevance_total:\n",
    "        for rank in range(len(line)):\n",
    "            if line[rank] == True:\n",
    "                total_score = total_score + 1 / (rank + 1)\n",
    "\n",
    "    return total_score / len(relevance_total)\n",
    "\n",
    "def evaluate(ground_truth, search_function):\n",
    "    relevance_total = []\n",
    "\n",
    "    for q in tqdm(ground_truth):\n",
    "        doc_id = q['document']\n",
    "        results = search_function(q)\n",
    "        relevance = [d['id'] == doc_id for d in results]\n",
    "        relevance_total.append(relevance)\n",
    "\n",
    "    return {\n",
    "        'hit_rate': hit_rate(relevance_total),\n",
    "        'mrr': mrr(relevance_total),\n",
    "    }"
   ]
  },
  {
   "cell_type": "code",
   "execution_count": 40,
   "id": "d7c62541-7893-426c-94bf-352e7787fe74",
   "metadata": {},
   "outputs": [],
   "source": [
    "def numpy_cosine_search(q):\n",
    "    question = q['question']\n",
    "\n",
    "    v_q = embedding_model.encode(question)\n",
    "\n",
    "    return search_engine.search(v_q, num_results=5)"
   ]
  },
  {
   "cell_type": "code",
   "execution_count": 41,
   "id": "b84a97a5-e5f4-4f58-8434-15db0520a9d7",
   "metadata": {
    "scrolled": true
   },
   "outputs": [
    {
     "data": {
      "text/plain": [
       "[{'text': 'Everything is recorded, so you won’t miss anything. You will be able to ask your questions for office hours in advance and we will cover them during the live stream. Also, you can always ask questions in Slack.',\n",
       "  'section': 'General course-related questions',\n",
       "  'question': 'What if I miss a session?',\n",
       "  'course': 'machine-learning-zoomcamp',\n",
       "  'id': '5170565b'},\n",
       " {'text': 'The course videos are pre-recorded, you can start watching the course right now.\\nWe will also occasionally have office hours - live sessions where we will answer your questions. The office hours sessions are recorded too.\\nYou can see the office hours as well as the pre-recorded course videos in the course playlist on YouTube.',\n",
       "  'section': 'General course-related questions',\n",
       "  'question': 'Is it going to be live? When?',\n",
       "  'course': 'machine-learning-zoomcamp',\n",
       "  'id': '39fda9f0'},\n",
       " {'text': 'We won’t re-record the course videos. The focus of the course and the skills we want to teach remained the same, and the videos are still up-to-date.\\nIf you haven’t taken part in the previous iteration, you can start watching the videos. It’ll be useful for you and you will learn new things. However, we recommend using Python 3.10 now instead of Python 3.8.',\n",
       "  'section': 'General course-related questions',\n",
       "  'question': 'The course videos are from the previous iteration. Will you release new ones or we’ll use the videos from 2021?',\n",
       "  'course': 'machine-learning-zoomcamp',\n",
       "  'id': 'e7ba6b8a'},\n",
       " {'text': \"Yes, it's possible. See the previous answer.\",\n",
       "  'section': 'General course-related questions',\n",
       "  'question': 'Will I get a certificate if I missed the midterm project?',\n",
       "  'course': 'machine-learning-zoomcamp',\n",
       "  'id': '1d644223'},\n",
       " {'text': 'Answer: All midterms and capstones are meant to be solo projects. [source @Alexey]',\n",
       "  'section': 'Projects (Midterm and Capstone)',\n",
       "  'question': 'Are projects solo or collaborative/group work?',\n",
       "  'course': 'machine-learning-zoomcamp',\n",
       "  'id': '4dfb5d4f'}]"
      ]
     },
     "execution_count": 41,
     "metadata": {},
     "output_type": "execute_result"
    }
   ],
   "source": [
    "numpy_cosine_search(ground_truth[10])\n"
   ]
  },
  {
   "cell_type": "code",
   "execution_count": 42,
   "id": "70152d05-6539-4100-99af-72b2a272ef8b",
   "metadata": {},
   "outputs": [
    {
     "data": {
      "application/vnd.jupyter.widget-view+json": {
       "model_id": "90648e863711423299bb8aff4b44d1a7",
       "version_major": 2,
       "version_minor": 0
      },
      "text/plain": [
       "  0%|          | 0/1830 [00:00<?, ?it/s]"
      ]
     },
     "metadata": {},
     "output_type": "display_data"
    },
    {
     "data": {
      "text/plain": [
       "{'hit_rate': 0.9398907103825137, 'mrr': 0.8516484517304189}"
      ]
     },
     "execution_count": 42,
     "metadata": {},
     "output_type": "execute_result"
    }
   ],
   "source": [
    "evaluate(ground_truth, numpy_cosine_search)\n"
   ]
  },
  {
   "cell_type": "markdown",
   "id": "1a012b49-b9af-497d-9ac8-6f7696868db3",
   "metadata": {},
   "source": [
    "### Q5"
   ]
  },
  {
   "cell_type": "code",
   "execution_count": 43,
   "id": "cd012780-6d66-4a9c-afa1-ed65b69a9910",
   "metadata": {},
   "outputs": [
    {
     "data": {
      "text/plain": [
       "ObjectApiResponse({'acknowledged': True, 'shards_acknowledged': True, 'index': 'course-questions-homework'})"
      ]
     },
     "execution_count": 43,
     "metadata": {},
     "output_type": "execute_result"
    }
   ],
   "source": [
    "from elasticsearch import Elasticsearch\n",
    "\n",
    "es_client = Elasticsearch('http://localhost:9200') \n",
    "\n",
    "index_settings = {\n",
    "    \"settings\": {\n",
    "        \"number_of_shards\": 1,\n",
    "        \"number_of_replicas\": 0\n",
    "    },\n",
    "    \"mappings\": {\n",
    "        \"properties\": {\n",
    "            \"text\": {\"type\": \"text\"},\n",
    "            \"section\": {\"type\": \"text\"},\n",
    "            \"question\": {\"type\": \"text\"},\n",
    "            \"course\": {\"type\": \"keyword\"},\n",
    "            \"id\": {\"type\": \"keyword\"},\n",
    "            \"question_text_vector\": {\n",
    "                \"type\": \"dense_vector\",\n",
    "                \"dims\": 768,\n",
    "                \"index\": True,\n",
    "                \"similarity\": \"cosine\"\n",
    "            },\n",
    "        }\n",
    "    }\n",
    "}\n",
    "\n",
    "index_name = \"course-questions-homework\"\n",
    "\n",
    "es_client.indices.delete(index=index_name, ignore_unavailable=True)\n",
    "es_client.indices.create(index=index_name, body=index_settings)"
   ]
  },
  {
   "cell_type": "code",
   "execution_count": 45,
   "id": "2674b468-252e-4901-a911-c6610e68c841",
   "metadata": {},
   "outputs": [
    {
     "data": {
      "application/vnd.jupyter.widget-view+json": {
       "model_id": "e93308b6434c431c9d20e58024c300fb",
       "version_major": 2,
       "version_minor": 0
      },
      "text/plain": [
       "  0%|          | 0/375 [00:00<?, ?it/s]"
      ]
     },
     "metadata": {},
     "output_type": "display_data"
    }
   ],
   "source": [
    "for doc in tqdm(documents):\n",
    "    question = doc['question']\n",
    "    text = doc['text']\n",
    "    qt = question + ' ' + text\n",
    "    doc['question_text_vector'] = embedding_model.encode(qt)"
   ]
  },
  {
   "cell_type": "code",
   "execution_count": 47,
   "id": "37fecb5c-1831-457e-8c33-731f89d54068",
   "metadata": {},
   "outputs": [
    {
     "data": {
      "application/vnd.jupyter.widget-view+json": {
       "model_id": "2dbdbaf9b5854a7ca9abb085601e3af3",
       "version_major": 2,
       "version_minor": 0
      },
      "text/plain": [
       "  0%|          | 0/375 [00:00<?, ?it/s]"
      ]
     },
     "metadata": {},
     "output_type": "display_data"
    }
   ],
   "source": [
    "for doc in tqdm(documents):\n",
    "    es_client.index(index=index_name, document=doc)"
   ]
  },
  {
   "cell_type": "code",
   "execution_count": 50,
   "id": "1c92d722-21ca-4eef-a8a2-068f51477642",
   "metadata": {},
   "outputs": [],
   "source": [
    "def elastic_search_knn(field, vector, course):\n",
    "    knn = {\n",
    "        \"field\": field,\n",
    "        \"query_vector\": vector,\n",
    "        \"k\": 5,\n",
    "        \"num_candidates\": 10000,\n",
    "        \"filter\": {\n",
    "            \"term\": {\n",
    "                \"course\": course\n",
    "            }\n",
    "        }\n",
    "    }\n",
    "\n",
    "    search_query = {\n",
    "        \"knn\": knn,\n",
    "        \"_source\": [\"text\", \"section\", \"question\", \"course\", \"id\"]\n",
    "    }\n",
    "\n",
    "    es_results = es_client.search(\n",
    "        index=index_name,\n",
    "        body=search_query\n",
    "    )\n",
    "    \n",
    "    result_docs = []\n",
    "    \n",
    "    for hit in es_results['hits']['hits']:\n",
    "        result_docs.append(hit['_source'])\n",
    "\n",
    "    return result_docs"
   ]
  },
  {
   "cell_type": "code",
   "execution_count": 51,
   "id": "d7aa5195-26f5-4138-b476-65f8a2706326",
   "metadata": {},
   "outputs": [
    {
     "data": {
      "text/plain": [
       "[{'question': 'The course has already started. Can I still join it?',\n",
       "  'course': 'machine-learning-zoomcamp',\n",
       "  'section': 'General course-related questions',\n",
       "  'text': 'Yes, you can. You won’t be able to submit some of the homeworks, but you can still take part in the course.\\nIn order to get a certificate, you need to submit 2 out of 3 course projects and review 3 peers’ Projects by the deadline. It means that if you join the course at the end of November and manage to work on two projects, you will still be eligible for a certificate.',\n",
       "  'id': 'ee58a693'},\n",
       " {'question': 'I just joined. What should I do next? How can I access course materials?',\n",
       "  'course': 'machine-learning-zoomcamp',\n",
       "  'section': 'General course-related questions',\n",
       "  'text': 'Welcome to the course! Go to the course page (http://mlzoomcamp.com/), scroll down and start going through the course materials. Then read everything in the cohort folder for your cohort’s year.\\nClick on the links and start watching the videos. Also watch office hours from previous cohorts. Go to DTC youtube channel and click on Playlists and search for {course yyyy}. ML Zoomcamp was first launched in 2021.\\nOr you can just use this link: http://mlzoomcamp.com/#syllabus',\n",
       "  'id': '0a278fb2'},\n",
       " {'question': \"I filled the form, but haven't received a confirmation email. Is it normal?\",\n",
       "  'course': 'machine-learning-zoomcamp',\n",
       "  'section': 'General course-related questions',\n",
       "  'text': \"The process is automated now, so you should receive the email eventually. If you haven’t, check your promotions tab in Gmail as well as spam.\\nIf you unsubscribed from our newsletter, you won't get course related updates too.\\nBut don't worry, it’s not a problem. To make sure you don’t miss anything, join the #course-ml-zoomcamp channel in Slack and our telegram channel with announcements. This is enough to follow the course.\",\n",
       "  'id': '6ba259b1'},\n",
       " {'question': 'Can I do the course in other languages, like R or Scala?',\n",
       "  'course': 'machine-learning-zoomcamp',\n",
       "  'section': 'Miscellaneous',\n",
       "  'text': 'Technically, yes. Advisable? Not really. Reasons:\\nSome homework(s) asks for specific python library versions.\\nAnswers may not match in MCQ options if using different languages other than Python 3.10 (the recommended version for 2023 cohort)\\nAnd as for midterms/capstones, your peer-reviewers may not know these other languages. Do you want to be penalized for others not knowing these other languages?\\nYou can create a separate repo using course’s lessons but written in other languages for your own learnings, but not advisable for submissions.\\ntx[source]',\n",
       "  'id': '9f261648'},\n",
       " {'question': 'The course videos are from the previous iteration. Will you release new ones or we’ll use the videos from 2021?',\n",
       "  'course': 'machine-learning-zoomcamp',\n",
       "  'section': 'General course-related questions',\n",
       "  'text': 'We won’t re-record the course videos. The focus of the course and the skills we want to teach remained the same, and the videos are still up-to-date.\\nIf you haven’t taken part in the previous iteration, you can start watching the videos. It’ll be useful for you and you will learn new things. However, we recommend using Python 3.10 now instead of Python 3.8.',\n",
       "  'id': 'e7ba6b8a'}]"
      ]
     },
     "execution_count": 51,
     "metadata": {},
     "output_type": "execute_result"
    }
   ],
   "source": [
    "elastic_search_knn('question_text_vector',v, 'machine-learning-zoomcamp')"
   ]
  },
  {
   "cell_type": "markdown",
   "id": "a36a2768-18d9-4aa4-a58a-7bacb7a27121",
   "metadata": {},
   "source": [
    "### Q6."
   ]
  },
  {
   "cell_type": "code",
   "execution_count": 52,
   "id": "7038f86e-a66c-42a4-9910-ae6c23bda83c",
   "metadata": {},
   "outputs": [],
   "source": [
    "def question_vector_knn(q):\n",
    "    question = q['question']\n",
    "    course = 'machine-learning-zoomcamp'\n",
    "\n",
    "    v_q = embedding_model.encode(question)\n",
    "\n",
    "    return elastic_search_knn('question_text_vector', v_q, course)"
   ]
  },
  {
   "cell_type": "code",
   "execution_count": 53,
   "id": "1961c606-d25c-4498-9070-3277d8bb3a03",
   "metadata": {},
   "outputs": [
    {
     "data": {
      "text/plain": [
       "[{'question': 'What if I miss a session?',\n",
       "  'course': 'machine-learning-zoomcamp',\n",
       "  'section': 'General course-related questions',\n",
       "  'text': 'Everything is recorded, so you won’t miss anything. You will be able to ask your questions for office hours in advance and we will cover them during the live stream. Also, you can always ask questions in Slack.',\n",
       "  'id': '5170565b'},\n",
       " {'question': 'Is it going to be live? When?',\n",
       "  'course': 'machine-learning-zoomcamp',\n",
       "  'section': 'General course-related questions',\n",
       "  'text': 'The course videos are pre-recorded, you can start watching the course right now.\\nWe will also occasionally have office hours - live sessions where we will answer your questions. The office hours sessions are recorded too.\\nYou can see the office hours as well as the pre-recorded course videos in the course playlist on YouTube.',\n",
       "  'id': '39fda9f0'},\n",
       " {'question': 'The course videos are from the previous iteration. Will you release new ones or we’ll use the videos from 2021?',\n",
       "  'course': 'machine-learning-zoomcamp',\n",
       "  'section': 'General course-related questions',\n",
       "  'text': 'We won’t re-record the course videos. The focus of the course and the skills we want to teach remained the same, and the videos are still up-to-date.\\nIf you haven’t taken part in the previous iteration, you can start watching the videos. It’ll be useful for you and you will learn new things. However, we recommend using Python 3.10 now instead of Python 3.8.',\n",
       "  'id': 'e7ba6b8a'},\n",
       " {'question': 'Will I get a certificate if I missed the midterm project?',\n",
       "  'course': 'machine-learning-zoomcamp',\n",
       "  'section': 'General course-related questions',\n",
       "  'text': \"Yes, it's possible. See the previous answer.\",\n",
       "  'id': '1d644223'},\n",
       " {'question': 'Are projects solo or collaborative/group work?',\n",
       "  'course': 'machine-learning-zoomcamp',\n",
       "  'section': 'Projects (Midterm and Capstone)',\n",
       "  'text': 'Answer: All midterms and capstones are meant to be solo projects. [source @Alexey]',\n",
       "  'id': '4dfb5d4f'}]"
      ]
     },
     "execution_count": 53,
     "metadata": {},
     "output_type": "execute_result"
    }
   ],
   "source": [
    "question_vector_knn(ground_truth[10])\n"
   ]
  },
  {
   "cell_type": "code",
   "execution_count": 55,
   "id": "a34d6415-4f3d-4720-8a99-aa7b78bc92a1",
   "metadata": {},
   "outputs": [
    {
     "data": {
      "application/vnd.jupyter.widget-view+json": {
       "model_id": "2ca029f295cf43e782b63a64a55e2267",
       "version_major": 2,
       "version_minor": 0
      },
      "text/plain": [
       "  0%|          | 0/1830 [00:00<?, ?it/s]"
      ]
     },
     "metadata": {},
     "output_type": "display_data"
    },
    {
     "data": {
      "text/plain": [
       "{'hit_rate': 0.9398907103825137, 'mrr': 0.8516484517304189}"
      ]
     },
     "execution_count": 55,
     "metadata": {},
     "output_type": "execute_result"
    }
   ],
   "source": [
    "evaluate(ground_truth, question_vector_knn)\n"
   ]
  },
  {
   "cell_type": "code",
   "execution_count": null,
   "id": "47e28a79-cf2e-4e7f-b1b9-e033ba328cc8",
   "metadata": {},
   "outputs": [],
   "source": []
  }
 ],
 "metadata": {
  "kernelspec": {
   "display_name": "Python 3 (ipykernel)",
   "language": "python",
   "name": "python3"
  },
  "language_info": {
   "codemirror_mode": {
    "name": "ipython",
    "version": 3
   },
   "file_extension": ".py",
   "mimetype": "text/x-python",
   "name": "python",
   "nbconvert_exporter": "python",
   "pygments_lexer": "ipython3",
   "version": "3.11.5"
  }
 },
 "nbformat": 4,
 "nbformat_minor": 5
}
